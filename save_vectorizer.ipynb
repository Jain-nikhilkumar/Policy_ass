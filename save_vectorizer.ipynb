{
 "cells": [
  {
   "cell_type": "code",
   "execution_count": 1,
   "metadata": {},
   "outputs": [
    {
     "ename": "NameError",
     "evalue": "name 'train_texts' is not defined",
     "output_type": "error",
     "traceback": [
      "\u001b[1;31m---------------------------------------------------------------------------\u001b[0m",
      "\u001b[1;31mNameError\u001b[0m                                 Traceback (most recent call last)",
      "Cell \u001b[1;32mIn[1], line 6\u001b[0m\n\u001b[0;32m      4\u001b[0m \u001b[38;5;66;03m# Example fitting vectorizers on training data\u001b[39;00m\n\u001b[0;32m      5\u001b[0m vectorizer_bow \u001b[38;5;241m=\u001b[39m CountVectorizer()\n\u001b[1;32m----> 6\u001b[0m vectorizer_bow\u001b[38;5;241m.\u001b[39mfit(train_texts)  \u001b[38;5;66;03m# Replace train_texts with your actual training data\u001b[39;00m\n\u001b[0;32m      8\u001b[0m vectorizer_tfidf \u001b[38;5;241m=\u001b[39m TfidfVectorizer()\n\u001b[0;32m      9\u001b[0m vectorizer_tfidf\u001b[38;5;241m.\u001b[39mfit(train_texts)  \u001b[38;5;66;03m# Replace train_texts with your actual training data\u001b[39;00m\n",
      "\u001b[1;31mNameError\u001b[0m: name 'train_texts' is not defined"
     ]
    }
   ],
   "source": [
    "import pandas as pd\n",
    "\n",
    "# Load the dataset\n",
    "df = pd.read_csv('/content/drive/MyDrive/PolicySysfolder/IMDB Dataset.csv/IMDB Dataset.csv')\n",
    "\n",
    "# Check the first few rows to understand the structure\n",
    "df.head()\n",
    "import pandas as pd\n",
    "from sklearn.feature_extraction.text import CountVectorizer, TfidfVectorizer\n",
    "\n",
    "# Load your data\n",
    "df = pd.read_csv(\"/content/drive/MyDrive/PolicySysfolder/IMDB Dataset.csv/IMDB Dataset.csv\")\n",
    "texts = df['review'].values  # Replace with your text column\n",
    "\n",
    "# Create and fit vectorizers\n",
    "vectorizer_bow = CountVectorizer(max_features=6209089)\n",
    "vectorizer_bow.fit(texts)\n",
    "\n",
    "vectorizer_tfidf = TfidfVectorizer(max_features=6209089)\n",
    "vectorizer_tfidf.fit(texts)\n",
    "\n",
    "# Save vectorizers\n",
    "import joblib\n",
    "joblib.dump(vectorizer_bow, 'count_vectorizer1.pkl')\n",
    "joblib.dump(vectorizer_tfidf, 'tfidf_vectorizer1.pkl')\n"
   ]
  }
 ],
 "metadata": {
  "kernelspec": {
   "display_name": "base",
   "language": "python",
   "name": "python3"
  },
  "language_info": {
   "codemirror_mode": {
    "name": "ipython",
    "version": 3
   },
   "file_extension": ".py",
   "mimetype": "text/x-python",
   "name": "python",
   "nbconvert_exporter": "python",
   "pygments_lexer": "ipython3",
   "version": "3.12.3"
  }
 },
 "nbformat": 4,
 "nbformat_minor": 2
}
